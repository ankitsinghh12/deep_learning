{
  "nbformat": 4,
  "nbformat_minor": 0,
  "metadata": {
    "colab": {
      "provenance": []
    },
    "kernelspec": {
      "name": "python3",
      "display_name": "Python 3"
    },
    "language_info": {
      "name": "python"
    }
  },
  "cells": [
    {
      "cell_type": "code",
      "source": [
        "# Part 1 - Data Preprocessing\n",
        "\n",
        "# Importing the libraries\n",
        "import numpy as np\n",
        "import matplotlib.pyplot as plt\n",
        "import pandas as pd"
      ],
      "metadata": {
        "id": "6UZbU8KZnmTO"
      },
      "execution_count": 1,
      "outputs": []
    },
    {
      "cell_type": "code",
      "source": [
        "# Importing the dataset\n",
        "dataset = pd.read_csv('Churn_Modelling.csv')\n",
        "X = dataset.iloc[:, 3:13]\n",
        "y = dataset.iloc[:, 13]"
      ],
      "metadata": {
        "id": "8sj2TA66jh0v"
      },
      "execution_count": 2,
      "outputs": []
    },
    {
      "cell_type": "code",
      "source": [
        "#Create dummy variables\n",
        "geography=pd.get_dummies(X[\"Geography\"],drop_first=True)\n",
        "gender=pd.get_dummies(X['Gender'],drop_first=True)"
      ],
      "metadata": {
        "id": "otrWSYvojj2p"
      },
      "execution_count": 3,
      "outputs": []
    },
    {
      "cell_type": "code",
      "source": [
        "## Concatenate the Data Frames\n",
        "\n",
        "X=pd.concat([X,geography,gender],axis=1)"
      ],
      "metadata": {
        "id": "wMyzaRwCjl4b"
      },
      "execution_count": 4,
      "outputs": []
    },
    {
      "cell_type": "code",
      "source": [
        "## Drop Unnecessary columns\n",
        "X=X.drop(['Geography','Gender'],axis=1)"
      ],
      "metadata": {
        "id": "UwRXXhWRjofk"
      },
      "execution_count": 5,
      "outputs": []
    },
    {
      "cell_type": "code",
      "source": [
        "# Splitting the dataset into the Training set and Test set\n",
        "from sklearn.model_selection import train_test_split\n",
        "X_train, X_test, y_train, y_test = train_test_split(X, y, test_size = 0.2, random_state = 0)"
      ],
      "metadata": {
        "id": "ySN7qlETjqw7"
      },
      "execution_count": 6,
      "outputs": []
    },
    {
      "cell_type": "code",
      "source": [
        "# Feature Scaling\n",
        "from sklearn.preprocessing import StandardScaler\n",
        "sc = StandardScaler()\n",
        "X_train = sc.fit_transform(X_train)\n",
        "X_test = sc.transform(X_test)"
      ],
      "metadata": {
        "id": "0GAKI2oMjuBO"
      },
      "execution_count": 7,
      "outputs": []
    },
    {
      "cell_type": "markdown",
      "source": [
        "#ANN"
      ],
      "metadata": {
        "id": "8tmTiMKRqWia"
      }
    },
    {
      "cell_type": "code",
      "source": [
        "# Importing the Keras libraries and packages\n",
        "import keras\n",
        "from keras.models import Sequential\n",
        "from keras.layers import Dense                 #for creating a dense layer \n",
        "from keras.layers import LeakyReLU,PReLU,ELU\n",
        "from keras.layers import Dropout"
      ],
      "metadata": {
        "id": "PXjzwxhqjwR4"
      },
      "execution_count": 8,
      "outputs": []
    },
    {
      "cell_type": "code",
      "source": [
        "# Initialising the ANN\n",
        "classifier = Sequential()"
      ],
      "metadata": {
        "id": "8lEwYXP5jzNJ"
      },
      "execution_count": 9,
      "outputs": []
    },
    {
      "cell_type": "code",
      "source": [
        "# Adding the input layer and the first hidden layer\n",
        "classifier.add(Dense(6, kernel_initializer = 'he_uniform',activation='relu',input_dim = 11))\n",
        "#in my first hiddel layer, we are considering 6 hidden neurons.\n",
        "#init indicates how your weights needs to be initialize \n",
        "#input_dim indicates that 'how many inputs are connected to this hidden layer'\n",
        "\n",
        "# Adding the second hidden layer\n",
        "classifier.add(Dense(6, kernel_initializer = 'he_uniform',activation='relu'))\n",
        "# Adding the output layer\n",
        "classifier.add(Dense(1, kernel_initializer = 'glorot_uniform', activation = 'sigmoid'))"
      ],
      "metadata": {
        "id": "_lKzrXNUj2jt"
      },
      "execution_count": 17,
      "outputs": []
    },
    {
      "cell_type": "code",
      "source": [
        "# Compiling the ANN\n",
        "classifier.compile(optimizer = 'Adamax', loss = 'binary_crossentropy', metrics = ['accuracy'])\n",
        "#if our outpu is either 0 or 1, then we should use binary crossentropy orelse categorical crossentropy."
      ],
      "metadata": {
        "id": "NgHGElcDj5jr"
      },
      "execution_count": 18,
      "outputs": []
    },
    {
      "cell_type": "code",
      "source": [
        "classifier.summary"
      ],
      "metadata": {
        "colab": {
          "base_uri": "https://localhost:8080/"
        },
        "id": "5QVAfdMwoWrB",
        "outputId": "83ad6b8a-0f28-4087-b2c6-2ae66c6c3a81"
      },
      "execution_count": 24,
      "outputs": [
        {
          "output_type": "execute_result",
          "data": {
            "text/plain": [
              "<bound method Model.summary of <keras.engine.sequential.Sequential object at 0x7f31dcc69190>>"
            ]
          },
          "metadata": {},
          "execution_count": 24
        }
      ]
    },
    {
      "cell_type": "code",
      "source": [
        "# Fitting the ANN to the Training set\n",
        "model_history=classifier.fit(X_train, y_train,validation_split=0.33, batch_size = 10, epochs = 100)"
      ],
      "metadata": {
        "colab": {
          "base_uri": "https://localhost:8080/"
        },
        "id": "kSxI2Ws4maiK",
        "outputId": "3ee849ab-6adb-455e-8457-135da73a3d35"
      },
      "execution_count": 21,
      "outputs": [
        {
          "output_type": "stream",
          "name": "stdout",
          "text": [
            "Epoch 1/100\n",
            "536/536 [==============================] - 4s 4ms/step - loss: 0.6132 - accuracy: 0.7026 - val_loss: 0.5237 - val_accuracy: 0.7955\n",
            "Epoch 2/100\n",
            "536/536 [==============================] - 1s 3ms/step - loss: 0.5090 - accuracy: 0.7962 - val_loss: 0.5036 - val_accuracy: 0.7955\n",
            "Epoch 3/100\n",
            "536/536 [==============================] - 2s 3ms/step - loss: 0.5003 - accuracy: 0.7962 - val_loss: 0.4979 - val_accuracy: 0.7955\n",
            "Epoch 4/100\n",
            "536/536 [==============================] - 1s 3ms/step - loss: 0.4926 - accuracy: 0.7962 - val_loss: 0.4899 - val_accuracy: 0.7955\n",
            "Epoch 5/100\n",
            "536/536 [==============================] - 2s 3ms/step - loss: 0.4841 - accuracy: 0.7962 - val_loss: 0.4823 - val_accuracy: 0.7955\n",
            "Epoch 6/100\n",
            "536/536 [==============================] - 1s 3ms/step - loss: 0.4761 - accuracy: 0.7962 - val_loss: 0.4752 - val_accuracy: 0.7955\n",
            "Epoch 7/100\n",
            "536/536 [==============================] - 1s 3ms/step - loss: 0.4684 - accuracy: 0.7962 - val_loss: 0.4682 - val_accuracy: 0.7955\n",
            "Epoch 8/100\n",
            "536/536 [==============================] - 2s 3ms/step - loss: 0.4612 - accuracy: 0.7962 - val_loss: 0.4623 - val_accuracy: 0.7955\n",
            "Epoch 9/100\n",
            "536/536 [==============================] - 2s 3ms/step - loss: 0.4549 - accuracy: 0.7962 - val_loss: 0.4572 - val_accuracy: 0.7955\n",
            "Epoch 10/100\n",
            "536/536 [==============================] - 1s 3ms/step - loss: 0.4491 - accuracy: 0.7962 - val_loss: 0.4526 - val_accuracy: 0.7955\n",
            "Epoch 11/100\n",
            "536/536 [==============================] - 1s 3ms/step - loss: 0.4438 - accuracy: 0.7962 - val_loss: 0.4486 - val_accuracy: 0.7955\n",
            "Epoch 12/100\n",
            "536/536 [==============================] - 1s 3ms/step - loss: 0.4391 - accuracy: 0.7962 - val_loss: 0.4453 - val_accuracy: 0.7955\n",
            "Epoch 13/100\n",
            "536/536 [==============================] - 1s 3ms/step - loss: 0.4347 - accuracy: 0.7962 - val_loss: 0.4419 - val_accuracy: 0.7955\n",
            "Epoch 14/100\n",
            "536/536 [==============================] - 1s 3ms/step - loss: 0.4308 - accuracy: 0.7962 - val_loss: 0.4392 - val_accuracy: 0.7955\n",
            "Epoch 15/100\n",
            "536/536 [==============================] - 1s 3ms/step - loss: 0.4273 - accuracy: 0.7962 - val_loss: 0.4370 - val_accuracy: 0.7955\n",
            "Epoch 16/100\n",
            "536/536 [==============================] - 2s 3ms/step - loss: 0.4243 - accuracy: 0.7962 - val_loss: 0.4351 - val_accuracy: 0.7955\n",
            "Epoch 17/100\n",
            "536/536 [==============================] - 2s 3ms/step - loss: 0.4215 - accuracy: 0.7962 - val_loss: 0.4330 - val_accuracy: 0.7955\n",
            "Epoch 18/100\n",
            "536/536 [==============================] - 1s 3ms/step - loss: 0.4189 - accuracy: 0.7962 - val_loss: 0.4312 - val_accuracy: 0.7955\n",
            "Epoch 19/100\n",
            "536/536 [==============================] - 1s 2ms/step - loss: 0.4165 - accuracy: 0.7962 - val_loss: 0.4297 - val_accuracy: 0.7955\n",
            "Epoch 20/100\n",
            "536/536 [==============================] - 1s 3ms/step - loss: 0.4141 - accuracy: 0.7983 - val_loss: 0.4285 - val_accuracy: 0.8005\n",
            "Epoch 21/100\n",
            "536/536 [==============================] - 1s 3ms/step - loss: 0.4119 - accuracy: 0.8110 - val_loss: 0.4267 - val_accuracy: 0.8069\n",
            "Epoch 22/100\n",
            "536/536 [==============================] - 1s 3ms/step - loss: 0.4098 - accuracy: 0.8138 - val_loss: 0.4251 - val_accuracy: 0.8095\n",
            "Epoch 23/100\n",
            "536/536 [==============================] - 2s 3ms/step - loss: 0.4077 - accuracy: 0.8145 - val_loss: 0.4238 - val_accuracy: 0.8103\n",
            "Epoch 24/100\n",
            "536/536 [==============================] - 2s 4ms/step - loss: 0.4059 - accuracy: 0.8145 - val_loss: 0.4220 - val_accuracy: 0.8103\n",
            "Epoch 25/100\n",
            "536/536 [==============================] - 2s 3ms/step - loss: 0.4038 - accuracy: 0.8175 - val_loss: 0.4204 - val_accuracy: 0.8118\n",
            "Epoch 26/100\n",
            "536/536 [==============================] - 1s 3ms/step - loss: 0.4020 - accuracy: 0.8181 - val_loss: 0.4189 - val_accuracy: 0.8129\n",
            "Epoch 27/100\n",
            "536/536 [==============================] - 1s 3ms/step - loss: 0.4001 - accuracy: 0.8194 - val_loss: 0.4175 - val_accuracy: 0.8129\n",
            "Epoch 28/100\n",
            "536/536 [==============================] - 1s 3ms/step - loss: 0.3984 - accuracy: 0.8209 - val_loss: 0.4160 - val_accuracy: 0.8152\n",
            "Epoch 29/100\n",
            "536/536 [==============================] - 2s 3ms/step - loss: 0.3965 - accuracy: 0.8231 - val_loss: 0.4147 - val_accuracy: 0.8164\n",
            "Epoch 30/100\n",
            "536/536 [==============================] - 1s 3ms/step - loss: 0.3946 - accuracy: 0.8235 - val_loss: 0.4133 - val_accuracy: 0.8186\n",
            "Epoch 31/100\n",
            "536/536 [==============================] - 1s 3ms/step - loss: 0.3930 - accuracy: 0.8253 - val_loss: 0.4119 - val_accuracy: 0.8186\n",
            "Epoch 32/100\n",
            "536/536 [==============================] - 2s 4ms/step - loss: 0.3908 - accuracy: 0.8261 - val_loss: 0.4104 - val_accuracy: 0.8209\n",
            "Epoch 33/100\n",
            "536/536 [==============================] - 1s 3ms/step - loss: 0.3892 - accuracy: 0.8281 - val_loss: 0.4086 - val_accuracy: 0.8209\n",
            "Epoch 34/100\n",
            "536/536 [==============================] - 2s 3ms/step - loss: 0.3873 - accuracy: 0.8293 - val_loss: 0.4071 - val_accuracy: 0.8224\n",
            "Epoch 35/100\n",
            "536/536 [==============================] - 2s 3ms/step - loss: 0.3856 - accuracy: 0.8311 - val_loss: 0.4055 - val_accuracy: 0.8209\n",
            "Epoch 36/100\n",
            "536/536 [==============================] - 2s 3ms/step - loss: 0.3836 - accuracy: 0.8300 - val_loss: 0.4040 - val_accuracy: 0.8262\n",
            "Epoch 37/100\n",
            "536/536 [==============================] - 1s 3ms/step - loss: 0.3819 - accuracy: 0.8343 - val_loss: 0.4028 - val_accuracy: 0.8251\n",
            "Epoch 38/100\n",
            "536/536 [==============================] - 1s 3ms/step - loss: 0.3803 - accuracy: 0.8350 - val_loss: 0.4017 - val_accuracy: 0.8251\n",
            "Epoch 39/100\n",
            "536/536 [==============================] - 2s 3ms/step - loss: 0.3787 - accuracy: 0.8339 - val_loss: 0.3995 - val_accuracy: 0.8292\n",
            "Epoch 40/100\n",
            "536/536 [==============================] - 2s 3ms/step - loss: 0.3771 - accuracy: 0.8393 - val_loss: 0.3984 - val_accuracy: 0.8281\n",
            "Epoch 41/100\n",
            "536/536 [==============================] - 2s 3ms/step - loss: 0.3756 - accuracy: 0.8388 - val_loss: 0.3972 - val_accuracy: 0.8315\n",
            "Epoch 42/100\n",
            "536/536 [==============================] - 2s 3ms/step - loss: 0.3743 - accuracy: 0.8395 - val_loss: 0.3960 - val_accuracy: 0.8307\n",
            "Epoch 43/100\n",
            "536/536 [==============================] - 2s 3ms/step - loss: 0.3727 - accuracy: 0.8410 - val_loss: 0.3943 - val_accuracy: 0.8334\n",
            "Epoch 44/100\n",
            "536/536 [==============================] - 1s 3ms/step - loss: 0.3711 - accuracy: 0.8440 - val_loss: 0.3928 - val_accuracy: 0.8326\n",
            "Epoch 45/100\n",
            "536/536 [==============================] - 1s 3ms/step - loss: 0.3696 - accuracy: 0.8446 - val_loss: 0.3923 - val_accuracy: 0.8300\n",
            "Epoch 46/100\n",
            "536/536 [==============================] - 2s 4ms/step - loss: 0.3684 - accuracy: 0.8446 - val_loss: 0.3906 - val_accuracy: 0.8334\n",
            "Epoch 47/100\n",
            "536/536 [==============================] - 2s 4ms/step - loss: 0.3667 - accuracy: 0.8451 - val_loss: 0.3895 - val_accuracy: 0.8342\n",
            "Epoch 48/100\n",
            "536/536 [==============================] - 1s 3ms/step - loss: 0.3656 - accuracy: 0.8468 - val_loss: 0.3884 - val_accuracy: 0.8357\n",
            "Epoch 49/100\n",
            "536/536 [==============================] - 1s 3ms/step - loss: 0.3642 - accuracy: 0.8457 - val_loss: 0.3871 - val_accuracy: 0.8357\n",
            "Epoch 50/100\n",
            "536/536 [==============================] - 2s 3ms/step - loss: 0.3631 - accuracy: 0.8466 - val_loss: 0.3860 - val_accuracy: 0.8364\n",
            "Epoch 51/100\n",
            "536/536 [==============================] - 2s 3ms/step - loss: 0.3618 - accuracy: 0.8483 - val_loss: 0.3849 - val_accuracy: 0.8368\n",
            "Epoch 52/100\n",
            "536/536 [==============================] - 1s 3ms/step - loss: 0.3602 - accuracy: 0.8490 - val_loss: 0.3856 - val_accuracy: 0.8357\n",
            "Epoch 53/100\n",
            "536/536 [==============================] - 2s 3ms/step - loss: 0.3595 - accuracy: 0.8489 - val_loss: 0.3838 - val_accuracy: 0.8368\n",
            "Epoch 54/100\n",
            "536/536 [==============================] - 2s 3ms/step - loss: 0.3582 - accuracy: 0.8483 - val_loss: 0.3821 - val_accuracy: 0.8376\n",
            "Epoch 55/100\n",
            "536/536 [==============================] - 2s 3ms/step - loss: 0.3572 - accuracy: 0.8507 - val_loss: 0.3828 - val_accuracy: 0.8372\n",
            "Epoch 56/100\n",
            "536/536 [==============================] - 2s 3ms/step - loss: 0.3560 - accuracy: 0.8545 - val_loss: 0.3803 - val_accuracy: 0.8383\n",
            "Epoch 57/100\n",
            "536/536 [==============================] - 1s 3ms/step - loss: 0.3551 - accuracy: 0.8520 - val_loss: 0.3798 - val_accuracy: 0.8379\n",
            "Epoch 58/100\n",
            "536/536 [==============================] - 1s 3ms/step - loss: 0.3539 - accuracy: 0.8530 - val_loss: 0.3787 - val_accuracy: 0.8413\n",
            "Epoch 59/100\n",
            "536/536 [==============================] - 2s 3ms/step - loss: 0.3524 - accuracy: 0.8539 - val_loss: 0.3776 - val_accuracy: 0.8432\n",
            "Epoch 60/100\n",
            "536/536 [==============================] - 2s 3ms/step - loss: 0.3516 - accuracy: 0.8548 - val_loss: 0.3769 - val_accuracy: 0.8432\n",
            "Epoch 61/100\n",
            "536/536 [==============================] - 2s 3ms/step - loss: 0.3509 - accuracy: 0.8565 - val_loss: 0.3765 - val_accuracy: 0.8417\n",
            "Epoch 62/100\n",
            "536/536 [==============================] - 2s 3ms/step - loss: 0.3498 - accuracy: 0.8550 - val_loss: 0.3755 - val_accuracy: 0.8436\n",
            "Epoch 63/100\n",
            "536/536 [==============================] - 2s 3ms/step - loss: 0.3494 - accuracy: 0.8584 - val_loss: 0.3758 - val_accuracy: 0.8425\n",
            "Epoch 64/100\n",
            "536/536 [==============================] - 2s 3ms/step - loss: 0.3483 - accuracy: 0.8586 - val_loss: 0.3747 - val_accuracy: 0.8429\n",
            "Epoch 65/100\n",
            "536/536 [==============================] - 2s 3ms/step - loss: 0.3479 - accuracy: 0.8591 - val_loss: 0.3742 - val_accuracy: 0.8432\n",
            "Epoch 66/100\n",
            "536/536 [==============================] - 1s 3ms/step - loss: 0.3471 - accuracy: 0.8582 - val_loss: 0.3755 - val_accuracy: 0.8406\n",
            "Epoch 67/100\n",
            "536/536 [==============================] - 1s 3ms/step - loss: 0.3468 - accuracy: 0.8591 - val_loss: 0.3738 - val_accuracy: 0.8421\n",
            "Epoch 68/100\n",
            "536/536 [==============================] - 2s 3ms/step - loss: 0.3463 - accuracy: 0.8599 - val_loss: 0.3727 - val_accuracy: 0.8444\n",
            "Epoch 69/100\n",
            "536/536 [==============================] - 2s 4ms/step - loss: 0.3458 - accuracy: 0.8612 - val_loss: 0.3737 - val_accuracy: 0.8429\n",
            "Epoch 70/100\n",
            "536/536 [==============================] - 1s 2ms/step - loss: 0.3455 - accuracy: 0.8602 - val_loss: 0.3727 - val_accuracy: 0.8429\n",
            "Epoch 71/100\n",
            "536/536 [==============================] - 1s 3ms/step - loss: 0.3450 - accuracy: 0.8617 - val_loss: 0.3718 - val_accuracy: 0.8432\n",
            "Epoch 72/100\n",
            "536/536 [==============================] - 1s 3ms/step - loss: 0.3446 - accuracy: 0.8610 - val_loss: 0.3730 - val_accuracy: 0.8421\n",
            "Epoch 73/100\n",
            "536/536 [==============================] - 2s 3ms/step - loss: 0.3442 - accuracy: 0.8617 - val_loss: 0.3721 - val_accuracy: 0.8444\n",
            "Epoch 74/100\n",
            "536/536 [==============================] - 1s 3ms/step - loss: 0.3438 - accuracy: 0.8602 - val_loss: 0.3720 - val_accuracy: 0.8440\n",
            "Epoch 75/100\n",
            "536/536 [==============================] - 2s 3ms/step - loss: 0.3432 - accuracy: 0.8615 - val_loss: 0.3731 - val_accuracy: 0.8440\n",
            "Epoch 76/100\n",
            "536/536 [==============================] - 2s 4ms/step - loss: 0.3430 - accuracy: 0.8619 - val_loss: 0.3709 - val_accuracy: 0.8463\n",
            "Epoch 77/100\n",
            "536/536 [==============================] - 2s 3ms/step - loss: 0.3425 - accuracy: 0.8612 - val_loss: 0.3701 - val_accuracy: 0.8466\n",
            "Epoch 78/100\n",
            "536/536 [==============================] - 1s 3ms/step - loss: 0.3425 - accuracy: 0.8610 - val_loss: 0.3700 - val_accuracy: 0.8470\n",
            "Epoch 79/100\n",
            "536/536 [==============================] - 2s 3ms/step - loss: 0.3419 - accuracy: 0.8623 - val_loss: 0.3694 - val_accuracy: 0.8463\n",
            "Epoch 80/100\n",
            "536/536 [==============================] - 1s 3ms/step - loss: 0.3415 - accuracy: 0.8623 - val_loss: 0.3692 - val_accuracy: 0.8474\n",
            "Epoch 81/100\n",
            "536/536 [==============================] - 1s 3ms/step - loss: 0.3418 - accuracy: 0.8617 - val_loss: 0.3692 - val_accuracy: 0.8470\n",
            "Epoch 82/100\n",
            "536/536 [==============================] - 2s 3ms/step - loss: 0.3411 - accuracy: 0.8625 - val_loss: 0.3689 - val_accuracy: 0.8466\n",
            "Epoch 83/100\n",
            "536/536 [==============================] - 2s 3ms/step - loss: 0.3408 - accuracy: 0.8642 - val_loss: 0.3692 - val_accuracy: 0.8474\n",
            "Epoch 84/100\n",
            "536/536 [==============================] - 2s 4ms/step - loss: 0.3404 - accuracy: 0.8621 - val_loss: 0.3685 - val_accuracy: 0.8463\n",
            "Epoch 85/100\n",
            "536/536 [==============================] - 1s 3ms/step - loss: 0.3403 - accuracy: 0.8630 - val_loss: 0.3683 - val_accuracy: 0.8474\n",
            "Epoch 86/100\n",
            "536/536 [==============================] - 1s 3ms/step - loss: 0.3399 - accuracy: 0.8604 - val_loss: 0.3687 - val_accuracy: 0.8463\n",
            "Epoch 87/100\n",
            "536/536 [==============================] - 2s 3ms/step - loss: 0.3401 - accuracy: 0.8636 - val_loss: 0.3684 - val_accuracy: 0.8474\n",
            "Epoch 88/100\n",
            "536/536 [==============================] - 1s 3ms/step - loss: 0.3398 - accuracy: 0.8621 - val_loss: 0.3681 - val_accuracy: 0.8478\n",
            "Epoch 89/100\n",
            "536/536 [==============================] - 2s 3ms/step - loss: 0.3395 - accuracy: 0.8615 - val_loss: 0.3691 - val_accuracy: 0.8478\n",
            "Epoch 90/100\n",
            "536/536 [==============================] - 2s 3ms/step - loss: 0.3395 - accuracy: 0.8623 - val_loss: 0.3683 - val_accuracy: 0.8466\n",
            "Epoch 91/100\n",
            "536/536 [==============================] - 2s 4ms/step - loss: 0.3393 - accuracy: 0.8653 - val_loss: 0.3681 - val_accuracy: 0.8466\n",
            "Epoch 92/100\n",
            "536/536 [==============================] - 2s 3ms/step - loss: 0.3391 - accuracy: 0.8634 - val_loss: 0.3682 - val_accuracy: 0.8478\n",
            "Epoch 93/100\n",
            "536/536 [==============================] - 1s 3ms/step - loss: 0.3390 - accuracy: 0.8634 - val_loss: 0.3685 - val_accuracy: 0.8466\n",
            "Epoch 94/100\n",
            "536/536 [==============================] - 1s 3ms/step - loss: 0.3389 - accuracy: 0.8640 - val_loss: 0.3681 - val_accuracy: 0.8470\n",
            "Epoch 95/100\n",
            "536/536 [==============================] - 2s 3ms/step - loss: 0.3390 - accuracy: 0.8619 - val_loss: 0.3678 - val_accuracy: 0.8463\n",
            "Epoch 96/100\n",
            "536/536 [==============================] - 1s 3ms/step - loss: 0.3386 - accuracy: 0.8628 - val_loss: 0.3699 - val_accuracy: 0.8466\n",
            "Epoch 97/100\n",
            "536/536 [==============================] - 2s 3ms/step - loss: 0.3384 - accuracy: 0.8636 - val_loss: 0.3680 - val_accuracy: 0.8455\n",
            "Epoch 98/100\n",
            "536/536 [==============================] - 2s 4ms/step - loss: 0.3378 - accuracy: 0.8640 - val_loss: 0.3710 - val_accuracy: 0.8432\n",
            "Epoch 99/100\n",
            "536/536 [==============================] - 2s 3ms/step - loss: 0.3380 - accuracy: 0.8642 - val_loss: 0.3684 - val_accuracy: 0.8463\n",
            "Epoch 100/100\n",
            "536/536 [==============================] - 1s 3ms/step - loss: 0.3380 - accuracy: 0.8640 - val_loss: 0.3683 - val_accuracy: 0.8474\n"
          ]
        }
      ]
    },
    {
      "cell_type": "code",
      "source": [
        "# list all data in history\n",
        "\n",
        "print(model_history.history.keys())\n",
        "# summarize history for accuracy\n",
        "plt.plot(model_history.history['accuracy'])\n",
        "plt.plot(model_history.history['val_accuracy'])\n",
        "plt.title('model accuracy')\n",
        "plt.ylabel('accuracy')\n",
        "plt.xlabel('epoch')\n",
        "plt.legend(['train', 'test'], loc='upper left')\n",
        "plt.show()"
      ],
      "metadata": {
        "colab": {
          "base_uri": "https://localhost:8080/",
          "height": 312
        },
        "id": "8L6YHViqmcSj",
        "outputId": "932a512a-5e3b-42bb-f496-03cf259812b5"
      },
      "execution_count": 26,
      "outputs": [
        {
          "output_type": "stream",
          "name": "stdout",
          "text": [
            "dict_keys(['loss', 'accuracy', 'val_loss', 'val_accuracy'])\n"
          ]
        },
        {
          "output_type": "display_data",
          "data": {
            "text/plain": [
              "<Figure size 432x288 with 1 Axes>"
            ],
            "image/png": "[encoded data removed]"
          },
          "metadata": {
            "needs_background": "light"
          }
        }
      ]
    },
    {
      "cell_type": "code",
      "source": [
        "# summarize history for loss\n",
        "plt.plot(model_history.history['loss'])\n",
        "plt.plot(model_history.history['val_loss'])\n",
        "plt.title('model loss')\n",
        "plt.ylabel('loss')\n",
        "plt.xlabel('epoch')\n",
        "plt.legend(['train', 'test'], loc='upper left')\n",
        "plt.show()"
      ],
      "metadata": {
        "colab": {
          "base_uri": "https://localhost:8080/",
          "height": 295
        },
        "id": "6W6eMY3Rng_H",
        "outputId": "9ea059dc-c1b5-4a3c-a667-e3e0af7a0a08"
      },
      "execution_count": 27,
      "outputs": [
        {
          "output_type": "display_data",
          "data": {
            "text/plain": [
              "<Figure size 432x288 with 1 Axes>"
            ],
            "image/png": "[encoded data removed]"
          },
          "metadata": {
            "needs_background": "light"
          }
        }
      ]
    },
    {
      "cell_type": "code",
      "source": [
        "# Part 3 - Making the predictions and evaluating the model\n",
        "\n",
        "# Predicting the Test set results\n",
        "y_pred = classifier.predict(X_test)\n",
        "y_pred = (y_pred > 0.5)"
      ],
      "metadata": {
        "colab": {
          "base_uri": "https://localhost:8080/"
        },
        "id": "cWP093IzpY0q",
        "outputId": "b9fddbfa-e55a-41ee-eacc-a1c8f2f31a58"
      },
      "execution_count": 29,
      "outputs": [
        {
          "output_type": "stream",
          "name": "stdout",
          "text": [
            "63/63 [==============================] - 0s 1ms/step\n"
          ]
        }
      ]
    },
    {
      "cell_type": "code",
      "source": [
        "# Making the Confusion Matrix\n",
        "from sklearn.metrics import confusion_matrix\n",
        "cm = confusion_matrix(y_test, y_pred)"
      ],
      "metadata": {
        "id": "Wa6yZaFHpfV9"
      },
      "execution_count": 30,
      "outputs": []
    },
    {
      "cell_type": "code",
      "source": [
        "# Calculate the Accuracy\n",
        "from sklearn.metrics import accuracy_score\n",
        "score=accuracy_score(y_pred,y_test)"
      ],
      "metadata": {
        "id": "aC1u1hXNsmUx"
      },
      "execution_count": 33,
      "outputs": []
    }
  ]
}